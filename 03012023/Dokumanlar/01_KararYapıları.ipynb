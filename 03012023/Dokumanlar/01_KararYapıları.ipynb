{
 "cells": [
  {
   "cell_type": "markdown",
   "metadata": {},
   "source": [
    "# Karar Yapıları\n",
    "* if -- else -- elif\n"
   ]
  },
  {
   "cell_type": "code",
   "execution_count": 10,
   "metadata": {},
   "outputs": [],
   "source": [
    "a = 3\n",
    "if a == 2:\n",
    "    print(a)"
   ]
  },
  {
   "cell_type": "code",
   "execution_count": 15,
   "metadata": {},
   "outputs": [
    {
     "name": "stdout",
     "output_type": "stream",
     "text": [
      "a 2 ye eşit değil\n"
     ]
    }
   ],
   "source": [
    "a = 3\n",
    "if a == 2:\n",
    "    print(a)\n",
    "else:\n",
    "    print(\"a 2 ye eşit değil\")"
   ]
  },
  {
   "cell_type": "code",
   "execution_count": null,
   "metadata": {},
   "outputs": [],
   "source": [
    "notu = 86\n",
    "if 85 <= notu <= 100:\n",
    "    print(\"AA\")\n",
    "else:\n",
    "    if 70 <= notu < 85:\n",
    "        print(\"BB\")\n",
    "    else:\n",
    "        if 54< notu <= 69:\n",
    "            print(\"CC\")\n",
    "        else:\n",
    "            print(\"Yanlış Not\")\n"
   ]
  },
  {
   "cell_type": "code",
   "execution_count": 38,
   "metadata": {},
   "outputs": [
    {
     "name": "stdout",
     "output_type": "stream",
     "text": [
      "AA\n"
     ]
    }
   ],
   "source": [
    "notu = 86\n",
    "if 85 <= notu <= 100:\n",
    "    print(\"AA\")\n",
    "elif 70 <= notu < 85:\n",
    "    print(\"BB\")\n",
    "elif 54< notu <= 69:\n",
    "    print(\"CC\")\n",
    "else:\n",
    "    print(\"Yanlış Not\")"
   ]
  },
  {
   "attachments": {},
   "cell_type": "markdown",
   "metadata": {},
   "source": [
    "### tek satırda if ve else nasıl yazılır?"
   ]
  },
  {
   "cell_type": "code",
   "execution_count": 18,
   "metadata": {},
   "outputs": [
    {
     "name": "stdout",
     "output_type": "stream",
     "text": [
      "a 2 ye eşit değil\n"
     ]
    }
   ],
   "source": [
    "a = 3\n",
    "if a == 2:print(a)\n",
    "else:print(\"a 2 ye eşit değil\")"
   ]
  },
  {
   "cell_type": "code",
   "execution_count": 20,
   "metadata": {},
   "outputs": [
    {
     "name": "stdout",
     "output_type": "stream",
     "text": [
      "a 2 ye eşit değil\n"
     ]
    }
   ],
   "source": [
    "a = 3\n",
    "sonuc = a if a == 2 else \"a 2 ye eşit değil\" \n",
    "print(sonuc)"
   ]
  },
  {
   "cell_type": "code",
   "execution_count": 28,
   "metadata": {},
   "outputs": [],
   "source": [
    "a = 0\n",
    "b = 0.0\n",
    "c = 0 + 0j\n",
    "d = \"\"\n",
    "e = []\n",
    "f = ()\n",
    "g = {}\n",
    "e = set()"
   ]
  },
  {
   "cell_type": "code",
   "execution_count": 29,
   "metadata": {},
   "outputs": [
    {
     "name": "stdout",
     "output_type": "stream",
     "text": [
      "Dolu\n"
     ]
    }
   ],
   "source": [
    "if d:\n",
    "    print(\"Dolu\")\n",
    "else:\n",
    "    print(\"Boş\")"
   ]
  },
  {
   "cell_type": "code",
   "execution_count": 34,
   "metadata": {},
   "outputs": [
    {
     "name": "stdout",
     "output_type": "stream",
     "text": [
      "2\n"
     ]
    }
   ],
   "source": [
    "giris = input(\"Yaş Giriniz\")\n",
    "if giris:\n",
    "    if giris.isdigit(): # str veri tipinin bir fonksiyonu rakamsal bir değer olup olmadığını kontrol ediyor\n",
    "        yas  = int(giris)\n",
    "        print(yas)\n",
    "    else:\n",
    "        print(\"Sayısal değer giriniz\")\n",
    "else:\n",
    "    print(\"Değer Girilmedi\")"
   ]
  },
  {
   "cell_type": "code",
   "execution_count": null,
   "metadata": {},
   "outputs": [],
   "source": []
  }
 ],
 "metadata": {
  "kernelspec": {
   "display_name": "Python 3",
   "language": "python",
   "name": "python3"
  },
  "language_info": {
   "codemirror_mode": {
    "name": "ipython",
    "version": 3
   },
   "file_extension": ".py",
   "mimetype": "text/x-python",
   "name": "python",
   "nbconvert_exporter": "python",
   "pygments_lexer": "ipython3",
   "version": "3.8.13 (default, Oct  4 2022, 14:00:32) \n[GCC 9.4.0]"
  },
  "orig_nbformat": 4,
  "vscode": {
   "interpreter": {
    "hash": "9ac03a0a6051494cc606d484d27d20fce22fb7b4d169f583271e11d5ba46a56e"
   }
  }
 },
 "nbformat": 4,
 "nbformat_minor": 2
}
